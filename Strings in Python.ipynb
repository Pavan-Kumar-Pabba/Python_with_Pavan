{
 "cells": [
  {
   "cell_type": "markdown",
   "id": "eea61b67",
   "metadata": {},
   "source": [
    "# Python With Pavan"
   ]
  },
  {
   "cell_type": "markdown",
   "id": "0f9b5244",
   "metadata": {},
   "source": [
    "## Strings\n",
    "\n",
    "A sequence of characters enclosedin single or double quotes in Python are called strings. In Python the string \"hello\" to be a letter of sequence in a specific order, meaning Python can keep track of every element in the string as a sequence. We can use indexing and slicing on this strings to get specific information/letters.\n",
    "\n",
    "In this session we learn about:\n",
    "1. Creation of strings\n",
    "2. Printing Strings\n",
    "3. Indexing\n",
    "4. Slicing\n",
    "5. String Methods\n",
    "6. String Properties\n",
    "7. Printing Formatting"
   ]
  },
  {
   "cell_type": "code",
   "execution_count": 1,
   "id": "23b2c3e7",
   "metadata": {},
   "outputs": [
    {
     "data": {
      "text/plain": [
       "'Pavan'"
      ]
     },
     "execution_count": 1,
     "metadata": {},
     "output_type": "execute_result"
    }
   ],
   "source": [
    "#word in single quotes\n",
    "'Pavan'"
   ]
  },
  {
   "cell_type": "code",
   "execution_count": 2,
   "id": "01b546e2",
   "metadata": {},
   "outputs": [
    {
     "data": {
      "text/plain": [
       "'Hi Pavan, Tell me about yourself'"
      ]
     },
     "execution_count": 2,
     "metadata": {},
     "output_type": "execute_result"
    }
   ],
   "source": [
    "#Sentence\n",
    "'Hi Pavan, Tell me about yourself'"
   ]
  },
  {
   "cell_type": "code",
   "execution_count": 3,
   "id": "0588f16d",
   "metadata": {},
   "outputs": [
    {
     "ename": "SyntaxError",
     "evalue": "invalid syntax (2235031816.py, line 1)",
     "output_type": "error",
     "traceback": [
      "\u001b[1;36m  Cell \u001b[1;32mIn[3], line 1\u001b[1;36m\u001b[0m\n\u001b[1;33m    'Hello, I'm Pavan. I have completed my Master's in Artificial Intelligence and Business Analytics.'\u001b[0m\n\u001b[1;37m              ^\u001b[0m\n\u001b[1;31mSyntaxError\u001b[0m\u001b[1;31m:\u001b[0m invalid syntax\n"
     ]
    }
   ],
   "source": [
    "'Hello, I'm Pavan. I have completed my Master's in Artificial Intelligence and Business Analytics.'"
   ]
  },
  {
   "cell_type": "markdown",
   "id": "2b5c56a8",
   "metadata": {},
   "source": [
    "### Confused ?\n",
    "\n",
    "It shows as invalid because our single quotes are ended after I. So whenever you are using quotes inside your statement like MASTER'S , I'm it is better to use double quotes and we can even use triple quotes for multiple lines."
   ]
  },
  {
   "cell_type": "code",
   "execution_count": 4,
   "id": "fe3aef73",
   "metadata": {},
   "outputs": [
    {
     "data": {
      "text/plain": [
       "\"Hello, I'm Pavan. I have completed my Master's in Artificial Intelligence and Business Analytics.\""
      ]
     },
     "execution_count": 4,
     "metadata": {},
     "output_type": "execute_result"
    }
   ],
   "source": [
    "\"Hello, I'm Pavan. I have completed my Master's in Artificial Intelligence and Business Analytics.\""
   ]
  },
  {
   "cell_type": "markdown",
   "id": "f8ede87f",
   "metadata": {},
   "source": [
    "### Printing a String\n",
    "You're surprised that we are getting strings as it is as output like how we enter in the cell. In Jupyter Notebook, It automatically returns the value if the syntax is correct. But, in programming we should use print function to display strings in your output."
   ]
  },
  {
   "cell_type": "code",
   "execution_count": 10,
   "id": "20a7d8df",
   "metadata": {},
   "outputs": [
    {
     "name": "stdout",
     "output_type": "stream",
     "text": [
      "Hello World!\n"
     ]
    }
   ],
   "source": [
    "print('Hello World!')"
   ]
  },
  {
   "cell_type": "markdown",
   "id": "546f94a1",
   "metadata": {},
   "source": [
    "Have you observed the difference ?\n",
    "It returns without any quotes beside that string. So using print function to display strings is the best practice .\n",
    "Without Print function we can't get multiple strings as output."
   ]
  },
  {
   "cell_type": "code",
   "execution_count": 13,
   "id": "ae581f0c",
   "metadata": {},
   "outputs": [
    {
     "data": {
      "text/plain": [
       "'Hello India'"
      ]
     },
     "execution_count": 13,
     "metadata": {},
     "output_type": "execute_result"
    }
   ],
   "source": [
    "'Hello USA'\n",
    "'Hello India'"
   ]
  },
  {
   "cell_type": "code",
   "execution_count": 15,
   "id": "80929eb0",
   "metadata": {},
   "outputs": [
    {
     "name": "stdout",
     "output_type": "stream",
     "text": [
      "Hello USA\n",
      "Hello India\n",
      "Welcome \n",
      " Gald to meet you all in this Howdy-Modi Event\n",
      "\n",
      "\n",
      "Thanks for joining\n"
     ]
    }
   ],
   "source": [
    "# we use the print function  to display what we want actually.\n",
    "print('Hello USA')\n",
    "print ('Hello India')\n",
    "print ('Welcome \\n Gald to meet you all in this Howdy-Modi Event')\n",
    "print('\\n')\n",
    "print('Thanks for joining')"
   ]
  },
  {
   "cell_type": "markdown",
   "id": "c0f8500a",
   "metadata": {},
   "source": [
    "## Slicing and Indexing\n",
    "\n",
    "There is a function called len() which counts all of the characters in the string, it includes spaces as well.\n",
    "\n",
    "Now, We know strings are a sequence,meaning python can use indexes to call the specific sequence. We use square brackets [] for indexing. \n",
    "\n",
    "*Note* : Indexes start with number 0."
   ]
  },
  {
   "cell_type": "code",
   "execution_count": 16,
   "id": "6bc47718",
   "metadata": {},
   "outputs": [],
   "source": [
    "# Assigning a string\n",
    "a = 'Hello World!'"
   ]
  },
  {
   "cell_type": "code",
   "execution_count": 17,
   "id": "305e08b3",
   "metadata": {},
   "outputs": [
    {
     "data": {
      "text/plain": [
       "'Hello World!'"
      ]
     },
     "execution_count": 17,
     "metadata": {},
     "output_type": "execute_result"
    }
   ],
   "source": [
    "#calling string\n",
    "a"
   ]
  },
  {
   "cell_type": "code",
   "execution_count": 18,
   "id": "1cdbf1fa",
   "metadata": {},
   "outputs": [
    {
     "name": "stdout",
     "output_type": "stream",
     "text": [
      "Hello World!\n"
     ]
    }
   ],
   "source": [
    "#printing string\n",
    "print(a)"
   ]
  },
  {
   "cell_type": "code",
   "execution_count": 19,
   "id": "03ace2ac",
   "metadata": {},
   "outputs": [
    {
     "name": "stdout",
     "output_type": "stream",
     "text": [
      "H\n"
     ]
    }
   ],
   "source": [
    "# I want the first element to display.\n",
    "print(a[0])"
   ]
  },
  {
   "cell_type": "code",
   "execution_count": 20,
   "id": "dd62d132",
   "metadata": {},
   "outputs": [
    {
     "name": "stdout",
     "output_type": "stream",
     "text": [
      "l\n"
     ]
    }
   ],
   "source": [
    "# I want the third element to display.\n",
    "print(a[2])"
   ]
  },
  {
   "cell_type": "code",
   "execution_count": 21,
   "id": "76103b19",
   "metadata": {},
   "outputs": [
    {
     "name": "stdout",
     "output_type": "stream",
     "text": [
      "!\n"
     ]
    }
   ],
   "source": [
    "# I want last element to display.\n",
    "print(a[-1]) # we don't know the length of our string. Index of our starting lettr is 0 and index of our last letter is -1. "
   ]
  },
  {
   "cell_type": "code",
   "execution_count": 22,
   "id": "bfecc61f",
   "metadata": {},
   "outputs": [
    {
     "name": "stdout",
     "output_type": "stream",
     "text": [
      "d\n"
     ]
    }
   ],
   "source": [
    "print(a[-2])"
   ]
  },
  {
   "cell_type": "code",
   "execution_count": 23,
   "id": "a81c3487",
   "metadata": {},
   "outputs": [
    {
     "data": {
      "text/plain": [
       "12"
      ]
     },
     "execution_count": 23,
     "metadata": {},
     "output_type": "execute_result"
    }
   ],
   "source": [
    "#shows the length of a string\n",
    "len(a)"
   ]
  },
  {
   "cell_type": "markdown",
   "id": "58d81f07",
   "metadata": {},
   "source": [
    "## Slicing\n",
    "for Slicing we use ':'. If we want letters from some x postion to y we use Slicing by : symbol"
   ]
  },
  {
   "cell_type": "code",
   "execution_count": 24,
   "id": "c32bf177",
   "metadata": {},
   "outputs": [
    {
     "data": {
      "text/plain": [
       "'ello World!'"
      ]
     },
     "execution_count": 24,
     "metadata": {},
     "output_type": "execute_result"
    }
   ],
   "source": [
    "#I dont want the first letter\n",
    "a [1:] # first letter's index is 0 skip that"
   ]
  },
  {
   "cell_type": "code",
   "execution_count": 25,
   "id": "2e02e29f",
   "metadata": {},
   "outputs": [
    {
     "data": {
      "text/plain": [
       "'!'"
      ]
     },
     "execution_count": 25,
     "metadata": {},
     "output_type": "execute_result"
    }
   ],
   "source": [
    "# I want the last element\n",
    "a[-1:]"
   ]
  },
  {
   "cell_type": "code",
   "execution_count": 29,
   "id": "c77e396f",
   "metadata": {},
   "outputs": [
    {
     "data": {
      "text/plain": [
       "'World!'"
      ]
     },
     "execution_count": 29,
     "metadata": {},
     "output_type": "execute_result"
    }
   ],
   "source": [
    "# I want strings from 6th letter\n",
    "a[6:] # in  indexing space will take 5th position and W will take 6th position"
   ]
  },
  {
   "cell_type": "code",
   "execution_count": 30,
   "id": "a1d6b3b0",
   "metadata": {},
   "outputs": [
    {
     "data": {
      "text/plain": [
       "'o Wo'"
      ]
     },
     "execution_count": 30,
     "metadata": {},
     "output_type": "execute_result"
    }
   ],
   "source": [
    "#I want only letters in between 3 to 8.\n",
    "a[4:8] #it excludes the 8th letter"
   ]
  },
  {
   "cell_type": "markdown",
   "id": "c4d6a06e",
   "metadata": {},
   "source": [
    "<pre> H  e  l  l  o     W  o  r  l  d ! </pre>\n",
    "<pre> 0  1  2  3  4  5  6  7  8  9 10 11 </pre>\n",
    "In total we have 12 elements."
   ]
  },
  {
   "cell_type": "code",
   "execution_count": 31,
   "id": "39607408",
   "metadata": {},
   "outputs": [
    {
     "data": {
      "text/plain": [
       "'Hello'"
      ]
     },
     "execution_count": 31,
     "metadata": {},
     "output_type": "execute_result"
    }
   ],
   "source": [
    "# Want everything upto 5h index\n",
    "a[:5]"
   ]
  },
  {
   "cell_type": "code",
   "execution_count": 32,
   "id": "becbc841",
   "metadata": {},
   "outputs": [
    {
     "data": {
      "text/plain": [
       "'Hello World'"
      ]
     },
     "execution_count": 32,
     "metadata": {},
     "output_type": "execute_result"
    }
   ],
   "source": [
    "# Wanteveything except last index\n",
    "a[:-1] # we dont get '!'"
   ]
  },
  {
   "cell_type": "markdown",
   "id": "014ad6b7",
   "metadata": {},
   "source": [
    "We use both slicing and indexing at a time. We grab elements from start to end step size of 2 by using two colons. then the frequency is set to step size of 2 .\n",
    "\n",
    "<pre> a [ x : y : z ] </pre>\n",
    "<pre> a [start: end : step size ] </pre>"
   ]
  },
  {
   "cell_type": "code",
   "execution_count": 33,
   "id": "726bd2ad",
   "metadata": {},
   "outputs": [
    {
     "data": {
      "text/plain": [
       "'el o'"
      ]
     },
     "execution_count": 33,
     "metadata": {},
     "output_type": "execute_result"
    }
   ],
   "source": [
    "a[1:8:2]"
   ]
  },
  {
   "cell_type": "code",
   "execution_count": 34,
   "id": "f487527a",
   "metadata": {},
   "outputs": [
    {
     "data": {
      "text/plain": [
       "'HloWrd'"
      ]
     },
     "execution_count": 34,
     "metadata": {},
     "output_type": "execute_result"
    }
   ],
   "source": [
    "a[::2]"
   ]
  },
  {
   "cell_type": "code",
   "execution_count": 35,
   "id": "e13c77a4",
   "metadata": {},
   "outputs": [
    {
     "data": {
      "text/plain": [
       "'Hello World!'"
      ]
     },
     "execution_count": 35,
     "metadata": {},
     "output_type": "execute_result"
    }
   ],
   "source": [
    "a[::1]"
   ]
  },
  {
   "cell_type": "markdown",
   "id": "c1ee025a",
   "metadata": {},
   "source": [
    "See the difference !"
   ]
  },
  {
   "cell_type": "markdown",
   "id": "7a3594b6",
   "metadata": {},
   "source": [
    "## Reverse of a string"
   ]
  },
  {
   "cell_type": "code",
   "execution_count": 37,
   "id": "d49c0190",
   "metadata": {},
   "outputs": [
    {
     "data": {
      "text/plain": [
       "'!dlroW olleH'"
      ]
     },
     "execution_count": 37,
     "metadata": {},
     "output_type": "execute_result"
    }
   ],
   "source": [
    "#Simply we can do rev of string by using indexing and slicing\n",
    "a[::-1]"
   ]
  },
  {
   "cell_type": "markdown",
   "id": "e6b13b5b",
   "metadata": {},
   "source": [
    "## String Methods\n",
    "We cannot replace strings."
   ]
  }
 ],
 "metadata": {
  "kernelspec": {
   "display_name": "Python 3 (ipykernel)",
   "language": "python",
   "name": "python3"
  },
  "language_info": {
   "codemirror_mode": {
    "name": "ipython",
    "version": 3
   },
   "file_extension": ".py",
   "mimetype": "text/x-python",
   "name": "python",
   "nbconvert_exporter": "python",
   "pygments_lexer": "ipython3",
   "version": "3.11.4"
  }
 },
 "nbformat": 4,
 "nbformat_minor": 5
}
