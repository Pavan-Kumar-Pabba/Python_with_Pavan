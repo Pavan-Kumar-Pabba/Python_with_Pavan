{
 "cells": [
  {
   "cell_type": "markdown",
   "id": "42ef75ee",
   "metadata": {},
   "source": [
    "#                                        Python with Pavan"
   ]
  },
  {
   "cell_type": "markdown",
   "id": "6c5523ee",
   "metadata": {},
   "source": [
    "### Pyhton is programming language to tell computer what to do. It is like step by step instructions. It is Simple to read and write (almost like English) and used for many things like designing Websites, analyzing and interpreting data, automating taks, making apps, AI, ML and more. \n",
    "### Python was created by Guido van Rossum in 1989 and released in 1991. It wasn't built specifically for data science, later in 20th century Science has involved in programming languages, because of Pyhton's simplicity and flexibility, People started using it in data fields.\n",
    "### Though R programming is used for Data science, we prefer Python because of its \n",
    "1. Huge libraries for data science\n",
    "* Numpy - for fast numerical calculations\n",
    "* Pandas - for data manipulation\n",
    "* Matplotlib and Seaborn - for Visualizations\n",
    "* Scikit-learn - for Machine learning\n",
    "* Tensorflow and PyTorch - for Deep Learning\n",
    "\n",
    "2. Ease of Learing\n",
    "\n",
    "3. Integration with Other Technologies\n",
    "\n",
    "4. Strong Community Support\n",
    "\n",
    "### We'll dive into Data Science in future sessions. For now, let's focus solely on programming concepts without getting into theory."
   ]
  },
  {
   "cell_type": "markdown",
   "id": "28f420e4",
   "metadata": {},
   "source": [
    "## Numbers in Python"
   ]
  },
  {
   "cell_type": "markdown",
   "id": "a495c83d",
   "metadata": {},
   "source": [
    "Types of Numbers\n",
    "1. Integers - Whole nummbers (10, -5.....)\n",
    "2. float - Decimal Numbers (10.5, -3.14)\n",
    "3. Complex - numbers with real and imaginary parts (3+4j)\n",
    "Let's focus on \n",
    "* Integers and Floating numbers\n",
    "* BASIC ARITHEMATIC\n",
    "* Difference between classic division and floor division.\n",
    "* Object in Assignment"
   ]
  },
  {
   "cell_type": "markdown",
   "id": "a61352a4",
   "metadata": {},
   "source": [
    "### Basic Arithematic"
   ]
  },
  {
   "cell_type": "code",
   "execution_count": 5,
   "id": "e1ea91ae",
   "metadata": {},
   "outputs": [
    {
     "name": "stdout",
     "output_type": "stream",
     "text": [
      "3\n"
     ]
    }
   ],
   "source": [
    "# Addition\n",
    "print (2+1) # print returns the value (all lower cases.)"
   ]
  },
  {
   "cell_type": "code",
   "execution_count": 6,
   "id": "3a262d5d",
   "metadata": {},
   "outputs": [
    {
     "name": "stdout",
     "output_type": "stream",
     "text": [
      "947\n"
     ]
    }
   ],
   "source": [
    "# Subtraction\n",
    "print(1000- 53)"
   ]
  },
  {
   "cell_type": "code",
   "execution_count": 7,
   "id": "cd4b68d2",
   "metadata": {},
   "outputs": [
    {
     "name": "stdout",
     "output_type": "stream",
     "text": [
      "475668\n"
     ]
    }
   ],
   "source": [
    "# Multiplication\n",
    "print ( 876*543)"
   ]
  },
  {
   "cell_type": "code",
   "execution_count": 8,
   "id": "f002c0e3",
   "metadata": {},
   "outputs": [
    {
     "data": {
      "text/plain": [
       "21.5"
      ]
     },
     "execution_count": 8,
     "metadata": {},
     "output_type": "execute_result"
    }
   ],
   "source": [
    "# Division\n",
    "43/2"
   ]
  },
  {
   "cell_type": "code",
   "execution_count": 9,
   "id": "6993eaee",
   "metadata": {},
   "outputs": [
    {
     "data": {
      "text/plain": [
       "21"
      ]
     },
     "execution_count": 9,
     "metadata": {},
     "output_type": "execute_result"
    }
   ],
   "source": [
    "# Floor Divison\n",
    "43//2"
   ]
  },
  {
   "cell_type": "markdown",
   "id": "bbab13ae",
   "metadata": {},
   "source": [
    "### WAIT! What just happened?\n",
    "In step 8, the result is 21.5, but in step 9, it's 21. Why?\n",
    "That's because we used floor division.\n",
    "The // operator (double forward slashes) removes the decimal part without rounding and returns an integer result.\n",
    "\n",
    "### So, what if we only want the remainder after division?\n",
    "Good question! Let's find out..."
   ]
  },
  {
   "cell_type": "code",
   "execution_count": 11,
   "id": "f63974e6",
   "metadata": {},
   "outputs": [
    {
     "data": {
      "text/plain": [
       "1"
      ]
     },
     "execution_count": 11,
     "metadata": {},
     "output_type": "execute_result"
    }
   ],
   "source": [
    "# Modulo\n",
    "43%2"
   ]
  },
  {
   "cell_type": "code",
   "execution_count": 13,
   "id": "6fea3977",
   "metadata": {},
   "outputs": [
    {
     "name": "stdout",
     "output_type": "stream",
     "text": [
      "8\n"
     ]
    }
   ],
   "source": [
    "# Power\n",
    "print (2**3) # two asterisk for power"
   ]
  },
  {
   "cell_type": "code",
   "execution_count": 15,
   "id": "5cc07152",
   "metadata": {},
   "outputs": [
    {
     "name": "stdout",
     "output_type": "stream",
     "text": [
      "2.0\n"
     ]
    }
   ],
   "source": [
    "# can also do square roots this way\n",
    "print(4 ** (1/2)) # Nothing but 4**0.5"
   ]
  },
  {
   "cell_type": "code",
   "execution_count": 16,
   "id": "c322cd6e",
   "metadata": {},
   "outputs": [
    {
     "name": "stdout",
     "output_type": "stream",
     "text": [
      "2.0\n"
     ]
    }
   ],
   "source": [
    "# That's Cool but how can we do it for cube root ? Simple,\n",
    "print(8**(1/3))"
   ]
  },
  {
   "cell_type": "code",
   "execution_count": 17,
   "id": "8ce19cbb",
   "metadata": {},
   "outputs": [
    {
     "name": "stdout",
     "output_type": "stream",
     "text": [
      "125\n"
     ]
    }
   ],
   "source": [
    "# Order of operations followed in Python (BODMAS Rule)\n",
    "print(1+10*13-6)"
   ]
  },
  {
   "cell_type": "markdown",
   "id": "5ea247c2",
   "metadata": {},
   "source": [
    "### Assigning Variables\n",
    "We see how can we use the numbers in Python above. Now, we'll look into how can we treat variables as numbers in Pyhton.\n",
    "We can assign numbers to a variable (Object) by using equal sign (=). suppose a = 9. when I call this Python Script, Python will treat a as a number i.e 9.\n",
    "\n",
    "*Note - There is difference between = and ==. One equal sign '=' is Assignment Operator (Used to assign a value). and Double equal sign '==' is an Comparision Operator (Used to compare a value). we will talk about this in later sessions.*"
   ]
  },
  {
   "cell_type": "code",
   "execution_count": 1,
   "id": "77ccb235",
   "metadata": {},
   "outputs": [],
   "source": [
    "# Assigning 5 to variable 'a'\n",
    "a = 5"
   ]
  },
  {
   "cell_type": "code",
   "execution_count": 2,
   "id": "76726f82",
   "metadata": {},
   "outputs": [
    {
     "name": "stdout",
     "output_type": "stream",
     "text": [
      "5\n"
     ]
    }
   ],
   "source": [
    "print(a)"
   ]
  },
  {
   "cell_type": "markdown",
   "id": "df673b75",
   "metadata": {},
   "source": [
    "When we call a it will return the value in it.\n",
    "Also, We can reassign the values. ( we can rewrite the value of 'a')"
   ]
  },
  {
   "cell_type": "code",
   "execution_count": 3,
   "id": "02ef7f33",
   "metadata": {},
   "outputs": [
    {
     "name": "stdout",
     "output_type": "stream",
     "text": [
      "10\n"
     ]
    }
   ],
   "source": [
    "a= 10\n",
    "print(a)"
   ]
  },
  {
   "cell_type": "code",
   "execution_count": 4,
   "id": "a1ffd6dc",
   "metadata": {},
   "outputs": [
    {
     "data": {
      "text/plain": [
       "20"
      ]
     },
     "execution_count": 4,
     "metadata": {},
     "output_type": "execute_result"
    }
   ],
   "source": [
    "a+a"
   ]
  },
  {
   "cell_type": "code",
   "execution_count": 5,
   "id": "913e85d0",
   "metadata": {},
   "outputs": [
    {
     "data": {
      "text/plain": [
       "5"
      ]
     },
     "execution_count": 5,
     "metadata": {},
     "output_type": "execute_result"
    }
   ],
   "source": [
    "a -5"
   ]
  },
  {
   "cell_type": "markdown",
   "id": "00d92558",
   "metadata": {},
   "source": [
    "There are some rules when creating a variable name. It must have:\n",
    "1. It shouldn't start with number\n",
    "2. It shouldn't start with Special characters.(!,@,#,$,%...)\n",
    "3. Instead of Space use '_'\n",
    "4. Best practice is to name with lowercases\n",
    "5. Avoid using in built function names like str, list etc.\n",
    "\n",
    "Best Practice is to name your variables that can be track easily. "
   ]
  },
  {
   "cell_type": "markdown",
   "id": "7050f753",
   "metadata": {},
   "source": [
    "### Let's wrap up this session with a small coding challenge.\n",
    "I worked for TCS in 2023 and my annual package is 11 lakhs. There will be 10% of tax deductions and 10% of increment on salary every year. How much is my salary after tax cuttings in 2025 ?"
   ]
  },
  {
   "cell_type": "code",
   "execution_count": 9,
   "id": "a69b5367",
   "metadata": {},
   "outputs": [
    {
     "name": "stdout",
     "output_type": "stream",
     "text": [
      "Salary in 2025 after tax: 1197900.0\n"
     ]
    }
   ],
   "source": [
    "# Initial values\n",
    "my_base_salary = 1100000   # in year 2023\n",
    "increment_rate = 0.10  # 10% increment\n",
    "tax_rate = 0.10        # 10% tax\n",
    "\n",
    "# Year 2024\n",
    "salary_2024 = my_base_salary * (1 + increment_rate) # see the variable names, can we track these names easily ? \n",
    "after_tax_2024 = salary_2024 * (1 - tax_rate) \n",
    "\n",
    "# Year 2025\n",
    "salary_2025 = salary_2024 * (1 + increment_rate) #Yes, We can track variables. \n",
    "after_tax_2025 = salary_2025 * (1 - tax_rate)\n",
    "\n",
    "# Output\n",
    "print(\"Salary in 2025 after tax:\", round(after_tax_2025, 2))\n"
   ]
  },
  {
   "cell_type": "markdown",
   "id": "7c288a14",
   "metadata": {},
   "source": [
    "In this session, we learned some basics of Numbers and Variables in Python along with some arithematic operations and variable assignments.\n",
    "\n",
    "We'll catch up in later sessions and be proficient in Pyhton and solve complex problems by the end of course. \n",
    "\n",
    "till then....\n",
    "\n",
    "### PRACTICE.....PRACTICE....PRACTICE"
   ]
  },
  {
   "cell_type": "code",
   "execution_count": null,
   "id": "383207fe",
   "metadata": {},
   "outputs": [],
   "source": []
  }
 ],
 "metadata": {
  "kernelspec": {
   "display_name": "Python 3 (ipykernel)",
   "language": "python",
   "name": "python3"
  },
  "language_info": {
   "codemirror_mode": {
    "name": "ipython",
    "version": 3
   },
   "file_extension": ".py",
   "mimetype": "text/x-python",
   "name": "python",
   "nbconvert_exporter": "python",
   "pygments_lexer": "ipython3",
   "version": "3.11.4"
  }
 },
 "nbformat": 4,
 "nbformat_minor": 5
}
